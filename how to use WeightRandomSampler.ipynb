{
 "cells": [
  {
   "cell_type": "markdown",
   "metadata": {},
   "source": [
    "### 1 生成人工数据"
   ]
  },
  {
   "cell_type": "code",
   "execution_count": null,
   "metadata": {},
   "outputs": [],
   "source": [
    "import pandas as pd\n",
    "import numpy as np\n",
    "\n",
    "df_y_neg = pd.DataFrame(np.random.randint(0,1,size=900))  # 生成900个0\n",
    "df_y_pos = pd.DataFrame(np.random.randint(1,2,size=100))  # 生成100个1\n",
    "\n",
    "df_y = pd.concat([df_y_neg, df_y_pos], ignore_index=True).sample(frac=1).reset_index(drop=True)  # 拼起来打乱，生成标签列y\n",
    "df_X = pd.DataFrame(np.random.normal(1, 0.1, size=(1000, 10)))  # 生成1000个数据，10个维度\n",
    "df = pd.concat([df_X, df_y], axis=1)  # 拼起来组成数据集\n",
    "df.columns = ['x'+str(n) for n in range(10)] + ['y']  # 标上列名\n",
    "df"
   ]
  },
  {
   "cell_type": "markdown",
   "metadata": {},
   "source": [
    "### 2 计算权重"
   ]
  },
  {
   "cell_type": "code",
   "execution_count": 66,
   "metadata": {},
   "outputs": [
    {
     "name": "stdout",
     "output_type": "stream",
     "text": [
      "100 900\n",
      "10.0 1.1111111111111112\n"
     ]
    }
   ],
   "source": [
    "num_pos = df.loc[df['y'] == 1].shape[0]\n",
    "num_neg = df.loc[df['y'] == 0].shape[0]\n",
    "pos_weight = (num_pos + num_neg) / num_pos\n",
    "neg_weight = (num_pos + num_neg) / num_neg\n",
    "\n",
    "print(num_pos, num_neg)\n",
    "print(pos_weight, neg_weight)  # 算出权重"
   ]
  },
  {
   "cell_type": "markdown",
   "metadata": {},
   "source": [
    "### 3 添加权重列"
   ]
  },
  {
   "cell_type": "code",
   "execution_count": 67,
   "metadata": {},
   "outputs": [
    {
     "data": {
      "text/html": [
       "<div>\n",
       "<style scoped>\n",
       "    .dataframe tbody tr th:only-of-type {\n",
       "        vertical-align: middle;\n",
       "    }\n",
       "\n",
       "    .dataframe tbody tr th {\n",
       "        vertical-align: top;\n",
       "    }\n",
       "\n",
       "    .dataframe thead th {\n",
       "        text-align: right;\n",
       "    }\n",
       "</style>\n",
       "<table border=\"1\" class=\"dataframe\">\n",
       "  <thead>\n",
       "    <tr style=\"text-align: right;\">\n",
       "      <th></th>\n",
       "      <th>x0</th>\n",
       "      <th>x1</th>\n",
       "      <th>x2</th>\n",
       "      <th>x3</th>\n",
       "      <th>x4</th>\n",
       "      <th>x5</th>\n",
       "      <th>x6</th>\n",
       "      <th>x7</th>\n",
       "      <th>x8</th>\n",
       "      <th>x9</th>\n",
       "      <th>y</th>\n",
       "      <th>y_weight</th>\n",
       "    </tr>\n",
       "  </thead>\n",
       "  <tbody>\n",
       "    <tr>\n",
       "      <th>0</th>\n",
       "      <td>1.068456</td>\n",
       "      <td>1.063596</td>\n",
       "      <td>1.013166</td>\n",
       "      <td>1.104790</td>\n",
       "      <td>0.880366</td>\n",
       "      <td>0.988808</td>\n",
       "      <td>0.942886</td>\n",
       "      <td>1.094549</td>\n",
       "      <td>0.910249</td>\n",
       "      <td>0.972088</td>\n",
       "      <td>0</td>\n",
       "      <td>1.111111</td>\n",
       "    </tr>\n",
       "    <tr>\n",
       "      <th>1</th>\n",
       "      <td>0.833696</td>\n",
       "      <td>0.958102</td>\n",
       "      <td>0.993866</td>\n",
       "      <td>0.924555</td>\n",
       "      <td>0.861291</td>\n",
       "      <td>1.152786</td>\n",
       "      <td>0.961652</td>\n",
       "      <td>0.999858</td>\n",
       "      <td>1.161463</td>\n",
       "      <td>0.803388</td>\n",
       "      <td>0</td>\n",
       "      <td>1.111111</td>\n",
       "    </tr>\n",
       "    <tr>\n",
       "      <th>2</th>\n",
       "      <td>1.008791</td>\n",
       "      <td>0.822793</td>\n",
       "      <td>0.852561</td>\n",
       "      <td>1.118715</td>\n",
       "      <td>1.086271</td>\n",
       "      <td>1.069529</td>\n",
       "      <td>0.873995</td>\n",
       "      <td>0.951702</td>\n",
       "      <td>1.028626</td>\n",
       "      <td>1.058171</td>\n",
       "      <td>0</td>\n",
       "      <td>1.111111</td>\n",
       "    </tr>\n",
       "    <tr>\n",
       "      <th>3</th>\n",
       "      <td>0.857424</td>\n",
       "      <td>1.160453</td>\n",
       "      <td>0.815194</td>\n",
       "      <td>1.048349</td>\n",
       "      <td>0.903609</td>\n",
       "      <td>0.940855</td>\n",
       "      <td>0.997933</td>\n",
       "      <td>0.882895</td>\n",
       "      <td>0.998632</td>\n",
       "      <td>0.914564</td>\n",
       "      <td>0</td>\n",
       "      <td>1.111111</td>\n",
       "    </tr>\n",
       "    <tr>\n",
       "      <th>4</th>\n",
       "      <td>0.913075</td>\n",
       "      <td>1.042431</td>\n",
       "      <td>1.097095</td>\n",
       "      <td>0.876134</td>\n",
       "      <td>1.001605</td>\n",
       "      <td>0.916581</td>\n",
       "      <td>1.011120</td>\n",
       "      <td>1.121976</td>\n",
       "      <td>0.932108</td>\n",
       "      <td>1.033714</td>\n",
       "      <td>1</td>\n",
       "      <td>10.000000</td>\n",
       "    </tr>\n",
       "    <tr>\n",
       "      <th>...</th>\n",
       "      <td>...</td>\n",
       "      <td>...</td>\n",
       "      <td>...</td>\n",
       "      <td>...</td>\n",
       "      <td>...</td>\n",
       "      <td>...</td>\n",
       "      <td>...</td>\n",
       "      <td>...</td>\n",
       "      <td>...</td>\n",
       "      <td>...</td>\n",
       "      <td>...</td>\n",
       "      <td>...</td>\n",
       "    </tr>\n",
       "    <tr>\n",
       "      <th>995</th>\n",
       "      <td>0.923476</td>\n",
       "      <td>0.931259</td>\n",
       "      <td>1.195409</td>\n",
       "      <td>1.016071</td>\n",
       "      <td>0.902529</td>\n",
       "      <td>0.911233</td>\n",
       "      <td>1.092697</td>\n",
       "      <td>1.037648</td>\n",
       "      <td>1.247636</td>\n",
       "      <td>0.969477</td>\n",
       "      <td>0</td>\n",
       "      <td>1.111111</td>\n",
       "    </tr>\n",
       "    <tr>\n",
       "      <th>996</th>\n",
       "      <td>1.075055</td>\n",
       "      <td>1.069097</td>\n",
       "      <td>1.059678</td>\n",
       "      <td>1.056545</td>\n",
       "      <td>1.036952</td>\n",
       "      <td>0.880974</td>\n",
       "      <td>1.005536</td>\n",
       "      <td>0.974187</td>\n",
       "      <td>1.000009</td>\n",
       "      <td>0.799761</td>\n",
       "      <td>0</td>\n",
       "      <td>1.111111</td>\n",
       "    </tr>\n",
       "    <tr>\n",
       "      <th>997</th>\n",
       "      <td>0.989936</td>\n",
       "      <td>0.980064</td>\n",
       "      <td>0.926465</td>\n",
       "      <td>1.064285</td>\n",
       "      <td>0.914808</td>\n",
       "      <td>0.989019</td>\n",
       "      <td>1.063873</td>\n",
       "      <td>1.039628</td>\n",
       "      <td>0.895884</td>\n",
       "      <td>1.038405</td>\n",
       "      <td>0</td>\n",
       "      <td>1.111111</td>\n",
       "    </tr>\n",
       "    <tr>\n",
       "      <th>998</th>\n",
       "      <td>0.989914</td>\n",
       "      <td>0.976585</td>\n",
       "      <td>0.923614</td>\n",
       "      <td>1.040148</td>\n",
       "      <td>1.131505</td>\n",
       "      <td>0.956910</td>\n",
       "      <td>1.134970</td>\n",
       "      <td>1.073546</td>\n",
       "      <td>1.038679</td>\n",
       "      <td>1.090961</td>\n",
       "      <td>1</td>\n",
       "      <td>10.000000</td>\n",
       "    </tr>\n",
       "    <tr>\n",
       "      <th>999</th>\n",
       "      <td>0.934432</td>\n",
       "      <td>0.977978</td>\n",
       "      <td>1.008582</td>\n",
       "      <td>0.898432</td>\n",
       "      <td>1.064018</td>\n",
       "      <td>1.017788</td>\n",
       "      <td>0.953985</td>\n",
       "      <td>0.919613</td>\n",
       "      <td>0.928249</td>\n",
       "      <td>1.020998</td>\n",
       "      <td>0</td>\n",
       "      <td>1.111111</td>\n",
       "    </tr>\n",
       "  </tbody>\n",
       "</table>\n",
       "<p>1000 rows × 12 columns</p>\n",
       "</div>"
      ],
      "text/plain": [
       "           x0        x1        x2        x3        x4        x5        x6  \\\n",
       "0    1.068456  1.063596  1.013166  1.104790  0.880366  0.988808  0.942886   \n",
       "1    0.833696  0.958102  0.993866  0.924555  0.861291  1.152786  0.961652   \n",
       "2    1.008791  0.822793  0.852561  1.118715  1.086271  1.069529  0.873995   \n",
       "3    0.857424  1.160453  0.815194  1.048349  0.903609  0.940855  0.997933   \n",
       "4    0.913075  1.042431  1.097095  0.876134  1.001605  0.916581  1.011120   \n",
       "..        ...       ...       ...       ...       ...       ...       ...   \n",
       "995  0.923476  0.931259  1.195409  1.016071  0.902529  0.911233  1.092697   \n",
       "996  1.075055  1.069097  1.059678  1.056545  1.036952  0.880974  1.005536   \n",
       "997  0.989936  0.980064  0.926465  1.064285  0.914808  0.989019  1.063873   \n",
       "998  0.989914  0.976585  0.923614  1.040148  1.131505  0.956910  1.134970   \n",
       "999  0.934432  0.977978  1.008582  0.898432  1.064018  1.017788  0.953985   \n",
       "\n",
       "           x7        x8        x9  y   y_weight  \n",
       "0    1.094549  0.910249  0.972088  0   1.111111  \n",
       "1    0.999858  1.161463  0.803388  0   1.111111  \n",
       "2    0.951702  1.028626  1.058171  0   1.111111  \n",
       "3    0.882895  0.998632  0.914564  0   1.111111  \n",
       "4    1.121976  0.932108  1.033714  1  10.000000  \n",
       "..        ...       ...       ... ..        ...  \n",
       "995  1.037648  1.247636  0.969477  0   1.111111  \n",
       "996  0.974187  1.000009  0.799761  0   1.111111  \n",
       "997  1.039628  0.895884  1.038405  0   1.111111  \n",
       "998  1.073546  1.038679  1.090961  1  10.000000  \n",
       "999  0.919613  0.928249  1.020998  0   1.111111  \n",
       "\n",
       "[1000 rows x 12 columns]"
      ]
     },
     "execution_count": 67,
     "metadata": {},
     "output_type": "execute_result"
    }
   ],
   "source": [
    "df['y_weight'] = df['y'].apply(lambda x : pos_weight if x==1 else neg_weight)  # 添加权重列\n",
    "df"
   ]
  },
  {
   "cell_type": "markdown",
   "metadata": {},
   "source": [
    "### 4 定义WeightedRandomSampler抽样器"
   ]
  },
  {
   "cell_type": "code",
   "execution_count": 68,
   "metadata": {},
   "outputs": [],
   "source": [
    "import torch\n",
    "\n",
    "data_y_w = torch.tensor(df['y_weight'].to_numpy(), dtype=torch.float)   # 注意一下，DataFrame要to_numpy()转成numpy再传入tensor，不然会报错\n",
    "num_samples = df.shape[0]   # 一共抽多少样本。可设置为与数据集同一数量，也可以自己设。\n",
    "\n",
    "# 定义抽样器，传入准备好的权重数组，抽样总数，并选择放回抽样\n",
    "sampler = torch.utils.data.sampler.WeightedRandomSampler(data_y_w, num_samples, replacement=True)"
   ]
  },
  {
   "cell_type": "markdown",
   "metadata": {},
   "source": [
    "### 5 构建dataset，建立Dataloader"
   ]
  },
  {
   "cell_type": "code",
   "execution_count": 69,
   "metadata": {},
   "outputs": [],
   "source": [
    "data_features = torch.tensor(df.iloc[:, :-1].values, dtype=torch.float)   # 数据弃掉权重列，传入tensor\n",
    "\n",
    "data_features_X = data_features[:,:-1]    # 取X\n",
    "data_features_y = data_features[:, -1].long()  # 取y，标签转成long型\n",
    "\n",
    "# TensorDataset 可以用来对 tensor 进行打包，类似zip。形式是数据特征+标签。\n",
    "dataset = torch.utils.data.TensorDataset(data_features_X, data_features_y)\n",
    "\n",
    "batch_size = 64\n",
    "data_iter = torch.utils.data.DataLoader(\n",
    "    dataset = dataset, sampler = sampler, batch_size = batch_size)"
   ]
  },
  {
   "cell_type": "code",
   "execution_count": 71,
   "metadata": {},
   "outputs": [
    {
     "data": {
      "text/plain": [
       "tensor([1, 1, 0, 1, 1, 1, 0, 1, 1, 1, 0, 0, 0, 0, 1, 0, 1, 0, 1, 0, 0, 0, 1, 1,\n",
       "        1, 1, 1, 1, 1, 1, 1, 0, 0, 1, 1, 0, 0, 0, 0, 1, 1, 1, 0, 0, 0, 0, 0, 0,\n",
       "        0, 1, 0, 0, 1, 1, 0, 0, 0, 1, 0, 1, 1, 0, 1, 1])"
      ]
     },
     "execution_count": 71,
     "metadata": {},
     "output_type": "execute_result"
    }
   ],
   "source": [
    "# 查看一个批次的数据\n",
    "X, y = next(iter(data_iter))\n",
    "y"
   ]
  }
 ],
 "metadata": {
  "interpreter": {
   "hash": "58edbf06b447562b2f859b4d256e1fe9b5ec2dc8d59984181fb6f62f1d7242b1"
  },
  "kernelspec": {
   "display_name": "Python 3.6.13 ('pytorch')",
   "language": "python",
   "name": "python3"
  },
  "language_info": {
   "codemirror_mode": {
    "name": "ipython",
    "version": 3
   },
   "file_extension": ".py",
   "mimetype": "text/x-python",
   "name": "python",
   "nbconvert_exporter": "python",
   "pygments_lexer": "ipython3",
   "version": "3.6.13"
  },
  "orig_nbformat": 4
 },
 "nbformat": 4,
 "nbformat_minor": 2
}
