{
 "cells": [
  {
   "cell_type": "code",
   "execution_count": 1,
   "metadata": {},
   "outputs": [
    {
     "data": {
      "text/plain": [
       "'2.0.0'"
      ]
     },
     "execution_count": 1,
     "metadata": {},
     "output_type": "execute_result"
    }
   ],
   "source": [
    "import tensorflow as tf\n",
    "import torch\n",
    "torch.set_printoptions(precision=16)\n",
    "import numpy as np\n",
    "tf.__version__"
   ]
  },
  {
   "cell_type": "markdown",
   "metadata": {},
   "source": [
    "### Tensor的创建方式"
   ]
  },
  {
   "cell_type": "code",
   "execution_count": 2,
   "metadata": {},
   "outputs": [
    {
     "data": {
      "text/plain": [
       "(<tf.Tensor: id=0, shape=(3,), dtype=float32, numpy=array([ 1. , 99. ,  2.3], dtype=float32)>,\n",
       " <tf.Tensor: id=1, shape=(3, 3), dtype=float64, numpy=\n",
       " array([[3. , 4. , 5. ],\n",
       "        [2.3, 5.6, 9.8],\n",
       "        [2. , 3. , 2. ]])>,\n",
       " <tf.Tensor: id=2, shape=(3, 3), dtype=float64, numpy=\n",
       " array([[3. , 4. , 5. ],\n",
       "        [2.3, 5.6, 9.8],\n",
       "        [2. , 3. , 2. ]])>,\n",
       " <tf.Variable 'Variable:0' shape=(3, 3) dtype=float64, numpy=\n",
       " array([[3. , 4. , 5. ],\n",
       "        [2.3, 5.6, 9.8],\n",
       "        [2. , 3. , 2. ]])>,\n",
       " tensor([ 1.0000000000000000, 99.0000000000000000,  2.2999999523162842]),\n",
       " tensor([[3.0000000000000000, 4.0000000000000000, 5.0000000000000000],\n",
       "         [2.2999999999999998, 5.5999999999999996, 9.8000000000000007],\n",
       "         [2.0000000000000000, 3.0000000000000000, 2.0000000000000000]],\n",
       "        dtype=torch.float64))"
      ]
     },
     "execution_count": 2,
     "metadata": {},
     "output_type": "execute_result"
    }
   ],
   "source": [
    "# 从list、np.array创建\n",
    "c1 = [1, 99, 2.3]\n",
    "c2 = np.array([[3,4,5],[2.3,5.6,9.8],[2,3,2]])\n",
    "\n",
    "# 注意：从np.array创建的tensor，默认dtype是 float64\n",
    "b1 = tf.convert_to_tensor(c1)\n",
    "b2 = tf.convert_to_tensor(c2)  \n",
    "b3 = tf.constant(c2)\n",
    "b4 = tf.Variable(c2)\n",
    "\n",
    "a1 = torch.tensor(c1)\n",
    "a2 = torch.tensor(c2)\n",
    "\n",
    "b1, b2, b3, b4, a1, a2"
   ]
  },
  {
   "cell_type": "markdown",
   "metadata": {},
   "source": [
    "### 生成各类特殊tensor的方式（tensorflow）"
   ]
  },
  {
   "cell_type": "code",
   "execution_count": 3,
   "metadata": {},
   "outputs": [
    {
     "data": {
      "text/plain": [
       "(<tf.Tensor: id=15, shape=(3, 4), dtype=float32, numpy=\n",
       " array([[0., 0., 0., 0.],\n",
       "        [0., 0., 0., 0.],\n",
       "        [0., 0., 0., 0.]], dtype=float32)>,\n",
       " <tf.Tensor: id=18, shape=(4, 4), dtype=float64, numpy=\n",
       " array([[1., 1., 1., 1.],\n",
       "        [1., 1., 1., 1.],\n",
       "        [1., 1., 1., 1.],\n",
       "        [1., 1., 1., 1.]])>,\n",
       " <tf.Tensor: id=19, shape=(3, 3), dtype=float64, numpy=\n",
       " array([[0., 0., 0.],\n",
       "        [0., 0., 0.],\n",
       "        [0., 0., 0.]])>,\n",
       " <tf.Tensor: id=22, shape=(2, 2), dtype=int32, numpy=\n",
       " array([[8, 8],\n",
       "        [8, 8]])>,\n",
       " <tf.Tensor: id=28, shape=(3, 3), dtype=float32, numpy=\n",
       " array([[-0.3901715 , -1.2569933 ,  0.0062857 ],\n",
       "        [ 0.3365683 , -0.57055134,  1.6123929 ],\n",
       "        [-0.9846022 , -1.9704348 ,  1.6550503 ]], dtype=float32)>,\n",
       " <tf.Tensor: id=35, shape=(3, 3), dtype=float32, numpy=\n",
       " array([[0.16912448, 0.10546708, 0.83073163],\n",
       "        [0.01938748, 0.34533405, 0.8204417 ],\n",
       "        [0.66695404, 0.03770101, 0.06765676]], dtype=float32)>,\n",
       " <tf.Tensor: id=39, shape=(10,), dtype=int32, numpy=array([0, 1, 2, 3, 4, 5, 6, 7, 8, 9])>,\n",
       " <tf.Tensor: id=43, shape=(5,), dtype=int32, numpy=array([ 3,  5,  7,  9, 11])>)"
      ]
     },
     "execution_count": 3,
     "metadata": {},
     "output_type": "execute_result"
    }
   ],
   "source": [
    "b3 = tf.zeros((3,4))\n",
    "b4 = tf.ones((4,4), dtype=tf.float64)\n",
    "b5 = tf.zeros_like(b2)\n",
    "b6 = tf.fill((2,2), 8)\n",
    "b7 = tf.random.normal((3,3), mean=0, stddev=1)  # 生成指定形状的取值呈正态分布的tensor，默认mean=0，stddev=1\n",
    "b7_uni = tf.random.uniform((3,3))  # 生成默认[0, 1)区间的均匀分布数值\n",
    "# 生成序列\n",
    "b8 = tf.range(10)\n",
    "b9 = tf.range(3,12, delta=2)\n",
    "\n",
    "b3, b4, b5, b6, b7, b7_uni, b8, b9"
   ]
  },
  {
   "cell_type": "markdown",
   "metadata": {},
   "source": [
    "### 生成各类特殊tensor的方式（pytorch）"
   ]
  },
  {
   "cell_type": "code",
   "execution_count": 4,
   "metadata": {},
   "outputs": [
    {
     "name": "stderr",
     "output_type": "stream",
     "text": [
      "d:\\Users\\takedachia\\Anaconda3\\envs\\pytorch\\lib\\site-packages\\ipykernel_launcher.py:10: UserWarning: torch.range is deprecated in favor of torch.arange and will be removed in 0.5. Note that arange generates values in [start; end), not [start; end].\n",
      "  # Remove the CWD from sys.path while we load stuff.\n",
      "d:\\Users\\takedachia\\Anaconda3\\envs\\pytorch\\lib\\site-packages\\ipykernel_launcher.py:11: UserWarning: torch.range is deprecated in favor of torch.arange and will be removed in 0.5. Note that arange generates values in [start; end), not [start; end].\n",
      "  # This is added back by InteractiveShellApp.init_path()\n"
     ]
    },
    {
     "data": {
      "text/plain": [
       "(tensor([[0., 0., 0., 0.],\n",
       "         [0., 0., 0., 0.],\n",
       "         [0., 0., 0., 0.]]),\n",
       " tensor([[1., 1., 1., 1.],\n",
       "         [1., 1., 1., 1.],\n",
       "         [1., 1., 1., 1.],\n",
       "         [1., 1., 1., 1.]], dtype=torch.float64),\n",
       " tensor([[0., 0., 0.],\n",
       "         [0., 0., 0.],\n",
       "         [0., 0., 0.]], dtype=torch.float64),\n",
       " tensor([[8., 8.],\n",
       "         [8., 8.]]),\n",
       " tensor([[-1.0655121803283691,  0.3178850114345551,  0.3133938610553741],\n",
       "         [ 0.8294593095779419, -0.6389173865318298, -0.3979529440402985],\n",
       "         [-0.3770307898521423,  0.7189074754714966, -1.3960875272750854]]),\n",
       " tensor([[-0.2695257067680359, -0.5689412355422974, -1.3332691192626953],\n",
       "         [-0.0319653935730457, -0.6699004173278809, -1.2259764671325684],\n",
       "         [ 0.1053594350814819, -0.8041066527366638, -0.3838702440261841]]),\n",
       " tensor([[0.8947029709815979, 0.1826450228691101, 0.7853161096572876],\n",
       "         [0.7413214445114136, 0.4289897680282593, 0.3742840886116028],\n",
       "         [0.3451750278472900, 0.3005512952804565, 0.9974142313003540]]),\n",
       " tensor([0., 1., 2., 3., 4., 5., 6., 7., 8., 9.]),\n",
       " tensor([ 3.,  5.,  7.,  9., 11.]))"
      ]
     },
     "execution_count": 4,
     "metadata": {},
     "output_type": "execute_result"
    }
   ],
   "source": [
    "a3 = torch.zeros((3,4))\n",
    "a4 = torch.ones((4,4), dtype=torch.double)\n",
    "a5 = torch.zeros_like(a2)\n",
    "a6 = torch.zeros((2,2))\n",
    "a6.fill_(8)\n",
    "a7 = torch.normal(mean=0, std=1, size=(3,3)) # 生成指定形状的取值呈正态分布的tensor，默认mean=0，std=1\n",
    "a7_2 = torch.randn(3,3)    # 效果同上，直接生成指定形状的取值呈标准正态分布的tensor（mean=0，std=1）\n",
    "a7_uni = torch.rand(3,3)   # 生成默认[0, 1)区间的均匀分布数值\n",
    "# 生成序列\n",
    "a8 = torch.range(0, 9)  # pytorch必须指定起止位置，且是闭区间\n",
    "a9 = torch.range(3, 12, step=2)\n",
    "\n",
    "a3, a4, a5, a6, a7, a7_2, a7_uni, a8, a9"
   ]
  },
  {
   "cell_type": "markdown",
   "metadata": {},
   "source": [
    "### 下标访问（pytorch同tensorflow）"
   ]
  },
  {
   "cell_type": "code",
   "execution_count": 5,
   "metadata": {},
   "outputs": [
    {
     "name": "stdout",
     "output_type": "stream",
     "text": [
      "tf.Tensor(\n",
      "[[[[-1.6341128  -0.8808176  -0.7366638 ]\n",
      "   [-0.9546539  -0.25612363 -0.92934775]\n",
      "   [ 0.9963285  -0.25302163 -0.6382349 ]\n",
      "   [-0.5492902  -0.34911054  1.3945708 ]]\n",
      "\n",
      "  [[ 1.050342    2.1528895   0.84808576]\n",
      "   [ 0.24898365  0.32068244  0.967524  ]\n",
      "   [ 1.1640049   1.482994   -0.94494826]\n",
      "   [-0.43457276 -0.72739834 -0.89505136]]]\n",
      "\n",
      "\n",
      " [[[-1.9402641  -0.54409444 -0.8838605 ]\n",
      "   [-0.9495034   1.0346799  -0.4257084 ]\n",
      "   [-1.0043907   0.15095204  0.58414996]\n",
      "   [-0.8705939  -0.06664703 -1.7009482 ]]\n",
      "\n",
      "  [[ 0.3770794   0.31344062  0.55836743]\n",
      "   [-1.1115981   1.77502    -1.2380204 ]\n",
      "   [-1.2459424   0.3437312   0.4057711 ]\n",
      "   [-0.3361236   0.47951627  0.16193931]]]], shape=(2, 2, 4, 3), dtype=float32)\n",
      "--------------------\n",
      "tf.Tensor(-0.72739834, shape=(), dtype=float32)\n",
      "--------------------\n",
      "tf.Tensor(-0.72739834, shape=(), dtype=float32)\n",
      "---------- 取第一张图像 ----------\n",
      "tf.Tensor(\n",
      "[[[-1.6341128  -0.8808176  -0.7366638 ]\n",
      "  [-0.9546539  -0.25612363 -0.92934775]\n",
      "  [ 0.9963285  -0.25302163 -0.6382349 ]\n",
      "  [-0.5492902  -0.34911054  1.3945708 ]]\n",
      "\n",
      " [[ 1.050342    2.1528895   0.84808576]\n",
      "  [ 0.24898365  0.32068244  0.967524  ]\n",
      "  [ 1.1640049   1.482994   -0.94494826]\n",
      "  [-0.43457276 -0.72739834 -0.89505136]]], shape=(2, 4, 3), dtype=float32)\n",
      "---------- 取一张图像，隔行隔列采样 ----------\n",
      "tf.Tensor(\n",
      "[[[-1.6341128  -0.8808176  -0.7366638 ]\n",
      "  [ 0.9963285  -0.25302163 -0.6382349 ]]], shape=(1, 2, 3), dtype=float32)\n"
     ]
    }
   ],
   "source": [
    "imgs_tf = tf.random.normal((2, 2, 4, 3))\n",
    "print(imgs_tf)\n",
    "print('-'*20)\n",
    "print(imgs_tf[0][1][3][1])\n",
    "print('-'*20)\n",
    "print(imgs_tf[0,1,3,1])  # 等同于上\n",
    "print('-'*10, '取第一张图像', '-'*10)\n",
    "print(imgs_tf[0])\n",
    "# print(imgs_tf[0, ::])  # 等同于上\n",
    "print('-'*10, '取一张图像，隔行隔列采样', '-'*10)\n",
    "print(imgs_tf[0, ::2, ::2, ::])"
   ]
  },
  {
   "cell_type": "markdown",
   "metadata": {},
   "source": [
    "### tensor的维度变换 / 改变视图（tensorflow）\n",
    "使用reshape"
   ]
  },
  {
   "cell_type": "code",
   "execution_count": 6,
   "metadata": {},
   "outputs": [
    {
     "name": "stdout",
     "output_type": "stream",
     "text": [
      "tf.Tensor(\n",
      "[[[-1.7054285   2.500039   -0.6360945  -0.82237417]\n",
      "  [ 0.26732156  0.5133795  -1.1915663  -0.21474299]]\n",
      "\n",
      " [[ 1.6459873   1.3629175   0.22875337 -0.15138626]\n",
      "  [-0.5162474  -2.3448699  -0.16788243  0.2710111 ]]], shape=(2, 2, 4), dtype=float32)\n",
      "\n",
      "tf.Tensor(\n",
      "[[-1.7054285   2.500039   -0.6360945  -0.82237417  0.26732156  0.5133795\n",
      "  -1.1915663  -0.21474299]\n",
      " [ 1.6459873   1.3629175   0.22875337 -0.15138626 -0.5162474  -2.3448699\n",
      "  -0.16788243  0.2710111 ]], shape=(2, 8), dtype=float32)\n",
      "\n",
      "tf.Tensor(\n",
      "[-1.7054285   2.500039   -0.6360945  -0.82237417  0.26732156  0.5133795\n",
      " -1.1915663  -0.21474299  1.6459873   1.3629175   0.22875337 -0.15138626\n",
      " -0.5162474  -2.3448699  -0.16788243  0.2710111 ], shape=(16,), dtype=float32)\n"
     ]
    }
   ],
   "source": [
    "imgs_tf2 = tf.random.normal((2, 2, 2, 2))\n",
    "img1 = tf.reshape(imgs_tf2, (2,2,4))\n",
    "print(img1)\n",
    "print()\n",
    "img1 = tf.reshape(imgs_tf2, (2,-1))\n",
    "print(img1)\n",
    "print()\n",
    "img1 = tf.reshape(imgs_tf2, (16,))\n",
    "print(img1)"
   ]
  },
  {
   "cell_type": "markdown",
   "metadata": {},
   "source": [
    "### tensor的维度变换 / 改变视图（pytorch）\n",
    "常用view"
   ]
  },
  {
   "cell_type": "code",
   "execution_count": 7,
   "metadata": {},
   "outputs": [
    {
     "name": "stdout",
     "output_type": "stream",
     "text": [
      "tensor([[[-0.4769857525825500,  0.5329518318176270,  0.4947994053363800,\n",
      "          -0.7270017862319946],\n",
      "         [ 0.7331073880195618,  0.2246405333280563, -2.1840131282806396,\n",
      "          -0.8816835284233093]],\n",
      "\n",
      "        [[ 0.3362587094306946,  0.8290506601333618,  1.5185540914535522,\n",
      "           0.3018237352371216],\n",
      "         [ 1.2007033824920654,  0.7280229926109314,  0.0150600029155612,\n",
      "          -1.9279793500900269]]])\n",
      "\n",
      "tensor([[-0.4769857525825500,  0.5329518318176270,  0.4947994053363800,\n",
      "         -0.7270017862319946,  0.7331073880195618,  0.2246405333280563,\n",
      "         -2.1840131282806396, -0.8816835284233093],\n",
      "        [ 0.3362587094306946,  0.8290506601333618,  1.5185540914535522,\n",
      "          0.3018237352371216,  1.2007033824920654,  0.7280229926109314,\n",
      "          0.0150600029155612, -1.9279793500900269]])\n",
      "\n",
      "tensor([-0.4769857525825500,  0.5329518318176270,  0.4947994053363800,\n",
      "        -0.7270017862319946,  0.7331073880195618,  0.2246405333280563,\n",
      "        -2.1840131282806396, -0.8816835284233093,  0.3362587094306946,\n",
      "         0.8290506601333618,  1.5185540914535522,  0.3018237352371216,\n",
      "         1.2007033824920654,  0.7280229926109314,  0.0150600029155612,\n",
      "        -1.9279793500900269])\n"
     ]
    }
   ],
   "source": [
    "imgs_tf3 = torch.randn(2, 2, 2, 2)\n",
    "img1 = imgs_tf3.view(2,2,4)\n",
    "print(img1)\n",
    "print()\n",
    "img1 = imgs_tf3.view(2,-1)\n",
    "print(img1)\n",
    "print()\n",
    "img1 = imgs_tf3.view(16,)\n",
    "print(img1)"
   ]
  },
  {
   "cell_type": "markdown",
   "metadata": {},
   "source": [
    "### 增加、删除、交换维度（tensorflow）"
   ]
  },
  {
   "cell_type": "code",
   "execution_count": 8,
   "metadata": {},
   "outputs": [
    {
     "name": "stdout",
     "output_type": "stream",
     "text": [
      "(3, 3, 3, 3, 1)\n",
      "(3, 3, 3, 3, 1)\n",
      "(3, 3, 3, 3)\n",
      "(3, 5, 4, 3)\n"
     ]
    }
   ],
   "source": [
    "# 增加维度  tf.expand_dims\n",
    "imgs_tf2 = tf.random.normal((3, 3, 3, 3))\n",
    "img2 = tf.expand_dims(imgs_tf2, -1) # 往最后一维扩展\n",
    "print(img2.shape)\n",
    "img2 = tf.expand_dims(imgs_tf2, 4) # 往第4维后扩展，等同于上面\n",
    "print(img2.shape)\n",
    "\n",
    "# 删除维度  tf.squeeze\n",
    "# 只能删除维度上长度为1的维度\n",
    "img2 = tf.squeeze(img2, -1)\n",
    "print(img2.shape)\n",
    "\n",
    "# 维度交换  tf.transpose\n",
    "imgs_tf2 = tf.random.normal((3, 4, 5, 3))\n",
    "img2 = tf.transpose(imgs_tf2, perm=[0, 2, 1, 3])  # 把第3维和第2维交换，在perm中传入改变后的index列表\n",
    "print(img2.shape)"
   ]
  },
  {
   "cell_type": "markdown",
   "metadata": {},
   "source": [
    "### 增加、删除、交换维度（pytorch）"
   ]
  },
  {
   "cell_type": "code",
   "execution_count": 9,
   "metadata": {},
   "outputs": [
    {
     "name": "stdout",
     "output_type": "stream",
     "text": [
      "torch.Size([3, 3, 3, 3, 1])\n",
      "torch.Size([3, 3, 3, 3, 1])\n",
      "torch.Size([3, 3, 3, 3])\n",
      "torch.Size([3, 5, 4, 3])\n",
      "torch.Size([3, 5, 4, 3])\n"
     ]
    }
   ],
   "source": [
    "# 增加维度  torch.unsqueeze\n",
    "imgs_tf3 = torch.randn(3, 3, 3, 3)\n",
    "img3 = torch.unsqueeze(imgs_tf3, -1) # 往最后一维扩展\n",
    "print(img3.shape)\n",
    "img3 = torch.unsqueeze(imgs_tf3, 4) # 往第4维后扩展，等同于上面\n",
    "print(img3.shape)\n",
    "\n",
    "# 删除维度  torch.squeeze\n",
    "# 只能删除维度上长度为1的维度\n",
    "img3 = torch.squeeze(img3, -1)\n",
    "print(img3.shape)\n",
    "\n",
    "# 维度交换  torch.transpose、permute\n",
    "imgs_tf3 = torch.randn(3, 4, 5, 3)\n",
    "img3 = torch.transpose(imgs_tf3, 1, 2)  # 把第3维和第2维交换，在perm中传入改变后的index列表\n",
    "print(img3.shape)\n",
    "# 方法2\n",
    "img3 = imgs_tf3.permute([0, 2, 1, 3])  # 把第3维和第2维交换，直接在permute中传入改变后的index列表\n",
    "print(img3.shape)"
   ]
  }
 ],
 "metadata": {
  "interpreter": {
   "hash": "58edbf06b447562b2f859b4d256e1fe9b5ec2dc8d59984181fb6f62f1d7242b1"
  },
  "kernelspec": {
   "display_name": "Python 3.6.13 ('pytorch')",
   "language": "python",
   "name": "python3"
  },
  "language_info": {
   "codemirror_mode": {
    "name": "ipython",
    "version": 3
   },
   "file_extension": ".py",
   "mimetype": "text/x-python",
   "name": "python",
   "nbconvert_exporter": "python",
   "pygments_lexer": "ipython3",
   "version": "3.6.13"
  },
  "orig_nbformat": 4
 },
 "nbformat": 4,
 "nbformat_minor": 2
}
