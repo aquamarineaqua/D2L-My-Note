{
 "cells": [
  {
   "cell_type": "code",
   "execution_count": 1,
   "metadata": {},
   "outputs": [
    {
     "data": {
      "text/plain": [
       "'2.0.0'"
      ]
     },
     "execution_count": 1,
     "metadata": {},
     "output_type": "execute_result"
    }
   ],
   "source": [
    "import tensorflow as tf\n",
    "import torch\n",
    "torch.set_printoptions(precision=16)\n",
    "import numpy as np\n",
    "tf.__version__"
   ]
  },
  {
   "cell_type": "markdown",
   "metadata": {},
   "source": [
    "### 标量的创建"
   ]
  },
  {
   "cell_type": "code",
   "execution_count": 2,
   "metadata": {},
   "outputs": [
    {
     "data": {
      "text/plain": [
       "<tf.Tensor: id=0, shape=(), dtype=float32, numpy=1.2>"
      ]
     },
     "metadata": {},
     "output_type": "display_data"
    },
    {
     "data": {
      "text/plain": [
       "tensor(1.2999999523162842)"
      ]
     },
     "metadata": {},
     "output_type": "display_data"
    }
   ],
   "source": [
    "# 创建数值标量\n",
    "b = tf.constant(1.2)\n",
    "a = torch.tensor(1.3)\n",
    "display(b)\n",
    "display(a)"
   ]
  },
  {
   "cell_type": "markdown",
   "metadata": {},
   "source": [
    "### 从列表List创建tensor"
   ]
  },
  {
   "cell_type": "code",
   "execution_count": 3,
   "metadata": {},
   "outputs": [
    {
     "data": {
      "text/plain": [
       "(<tf.Tensor: id=1, shape=(5,), dtype=float32, numpy=array([1. , 2. , 3. , 4. , 5.5], dtype=float32)>,\n",
       " tensor([1.0000000000000000, 2.0000000000000000, 3.0000000000000000,\n",
       "         4.0000000000000000, 5.5000000000000000]))"
      ]
     },
     "execution_count": 3,
     "metadata": {},
     "output_type": "execute_result"
    }
   ],
   "source": [
    "# 向量\n",
    "b2 = tf.constant([1,2,3,4,5.5])\n",
    "a2 = torch.tensor([1,2,3,4,5.5])\n",
    "b2, a2\n",
    "# 可以看到tensorflow中的tensor的打印信息非常丰富，包括了shape、dtype、numpy的data"
   ]
  },
  {
   "cell_type": "markdown",
   "metadata": {},
   "source": [
    "### 按形状生成随机tensor（按标准正态分布）"
   ]
  },
  {
   "cell_type": "code",
   "execution_count": 4,
   "metadata": {},
   "outputs": [
    {
     "data": {
      "text/plain": [
       "(<tf.Tensor: id=7, shape=(2, 3, 2), dtype=float32, numpy=\n",
       " array([[[-1.099775  , -0.6527569 ],\n",
       "         [ 2.1494136 , -0.01568422],\n",
       "         [-0.76702565,  0.23472826]],\n",
       " \n",
       "        [[ 0.19036533,  0.10970458],\n",
       "         [-0.798371  , -1.7732579 ],\n",
       "         [-0.43154135, -0.35539937]]], dtype=float32)>,\n",
       " tensor([[[ 0.7181688547134399,  0.0404269061982632],\n",
       "          [-0.8318176865577698, -1.3537551164627075],\n",
       "          [ 0.8462973833084106,  1.8377413749694824],\n",
       "          [ 0.1261210888624191,  1.5610724687576294]],\n",
       " \n",
       "         [[-0.9063137769699097,  0.3477703034877777],\n",
       "          [ 1.1065300703048706, -0.9833527803421021],\n",
       "          [-0.6745951771736145,  1.6139211654663086],\n",
       "          [-0.5484414696693420, -0.4170773327350616]],\n",
       " \n",
       "         [[ 0.9991233944892883,  0.3083795607089996],\n",
       "          [-0.7495669126510620, -1.4911265373229980],\n",
       "          [-1.2028745412826538, -0.0810858905315399],\n",
       "          [ 1.3259363174438477,  0.0653269588947296]]]),\n",
       " torch.float32,\n",
       " torch.Size([3, 4, 2]))"
      ]
     },
     "execution_count": 4,
     "metadata": {},
     "output_type": "execute_result"
    }
   ],
   "source": [
    "b3 = tf.random.normal([2,3,2])\n",
    "a3 = torch.normal(mean=0, std=1, size=(3,4,2))\n",
    "# a3 = torch.randn(3,4,2)   同上\n",
    "b3, a3, a3.dtype, a3.shape"
   ]
  },
  {
   "cell_type": "markdown",
   "metadata": {},
   "source": [
    "### 建立字符串型tensor\n",
    "tensorflow独有"
   ]
  },
  {
   "cell_type": "code",
   "execution_count": 5,
   "metadata": {},
   "outputs": [
    {
     "data": {
      "text/plain": [
       "<tf.Tensor: id=8, shape=(), dtype=string, numpy=b'hello world'>"
      ]
     },
     "execution_count": 5,
     "metadata": {},
     "output_type": "execute_result"
    }
   ],
   "source": [
    "# 字符串\n",
    "b4 = tf.constant('hello world')\n",
    "# 在pytorch中没有自己的字符串类型\n",
    "b4\n",
    "# 有了string类型，就可以使用字符串的各种方法，详见：https://www.tensorflow.org/versions/r2.0/api_docs/python/tf/strings"
   ]
  },
  {
   "cell_type": "markdown",
   "metadata": {},
   "source": [
    "### 建立布尔型tensor"
   ]
  },
  {
   "cell_type": "code",
   "execution_count": 6,
   "metadata": {},
   "outputs": [
    {
     "data": {
      "text/plain": [
       "(<tf.Tensor: id=9, shape=(), dtype=bool, numpy=True>,\n",
       " <tf.Tensor: id=11, shape=(), dtype=bool, numpy=True>,\n",
       " tensor(True),\n",
       " 'torch.BoolTensor',\n",
       " tensor(True))"
      ]
     },
     "execution_count": 6,
     "metadata": {},
     "output_type": "execute_result"
    }
   ],
   "source": [
    "p5 = True\n",
    "\n",
    "b5 = tf.constant(True)\n",
    "a5 = torch.tensor(True)\n",
    "# 可直接与python的布尔型做逻辑运算\n",
    "b5, b5==p5, a5, a5.type(), p5==a5"
   ]
  },
  {
   "cell_type": "markdown",
   "metadata": {},
   "source": [
    "### dtype类型与数值精度"
   ]
  },
  {
   "cell_type": "code",
   "execution_count": 7,
   "metadata": {},
   "outputs": [
    {
     "data": {
      "text/plain": [
       "(<tf.Tensor: id=12, shape=(), dtype=float32, numpy=3.1415927>,\n",
       " <tf.Tensor: id=13, shape=(), dtype=float16, numpy=3.14>,\n",
       " <tf.Tensor: id=14, shape=(), dtype=float64, numpy=3.141592653589793>,\n",
       " tensor(3.1415927410125732),\n",
       " tensor(3.1406250000000000, dtype=torch.float16),\n",
       " tensor(3.1415926535897931, dtype=torch.float64),\n",
       " 3.141592653589793)"
      ]
     },
     "execution_count": 7,
     "metadata": {},
     "output_type": "execute_result"
    }
   ],
   "source": [
    "# 数值类型，数值精度\n",
    "b6 = tf.constant(np.pi, dtype=tf.float32)\n",
    "b7 = tf.constant(np.pi, dtype=tf.half)  # tf.half 等于 tf.float16\n",
    "b8 = tf.constant(np.pi, dtype=tf.double)  # tf.double 等于 tf.float32\n",
    "a6 = torch.tensor(np.pi, dtype=torch.float32)\n",
    "a7 = torch.tensor(np.pi, dtype=torch.half)\n",
    "a8 = torch.tensor(np.pi, dtype=torch.double)\n",
    "b6, b7, b8, a6, a7, a8, np.pi"
   ]
  },
  {
   "cell_type": "markdown",
   "metadata": {},
   "source": [
    "### dtype类型转换"
   ]
  },
  {
   "cell_type": "code",
   "execution_count": 8,
   "metadata": {},
   "outputs": [
    {
     "data": {
      "text/plain": [
       "(<tf.Tensor: id=15, shape=(), dtype=float32, numpy=3.1415927>,\n",
       " tensor(3.1415927410125732))"
      ]
     },
     "execution_count": 8,
     "metadata": {},
     "output_type": "execute_result"
    }
   ],
   "source": [
    "# 数据类型转换\n",
    "b9 = tf.cast(b8, dtype=tf.float32)\n",
    "a9 = a8.to(dtype=torch.float32)\n",
    "b9, a9"
   ]
  },
  {
   "cell_type": "markdown",
   "metadata": {},
   "source": [
    "### 设置成 可优化变量（设置梯度）\n",
    "tensorflow通过建立变量Variable，将其变为可优化变量<br>\n",
    "pytorch通过将tensor设上梯度，将其变为可优化变量"
   ]
  },
  {
   "cell_type": "code",
   "execution_count": 9,
   "metadata": {},
   "outputs": [
    {
     "data": {
      "text/plain": [
       "<tf.Tensor: id=16, shape=(4,), dtype=float32, numpy=array([1. , 2. , 3. , 5.5], dtype=float32)>"
      ]
     },
     "metadata": {},
     "output_type": "display_data"
    },
    {
     "data": {
      "text/plain": [
       "<tf.Variable 'Variable:0' shape=(4,) dtype=float32, numpy=array([1. , 2. , 3. , 5.5], dtype=float32)>"
      ]
     },
     "metadata": {},
     "output_type": "display_data"
    },
    {
     "data": {
      "text/plain": [
       "True"
      ]
     },
     "metadata": {},
     "output_type": "display_data"
    },
    {
     "data": {
      "text/plain": [
       "<tf.Variable 'Variable:0' shape=(2,) dtype=float32, numpy=array([3. , 4.5], dtype=float32)>"
      ]
     },
     "metadata": {},
     "output_type": "display_data"
    },
    {
     "name": "stdout",
     "output_type": "stream",
     "text": [
      "--------------------\n"
     ]
    },
    {
     "data": {
      "text/plain": [
       "tensor([1.0000000000000000, 2.0000000000000000, 3.0000000000000000,\n",
       "        5.5000000000000000], requires_grad=True)"
      ]
     },
     "metadata": {},
     "output_type": "display_data"
    },
    {
     "data": {
      "text/plain": [
       "True"
      ]
     },
     "metadata": {},
     "output_type": "display_data"
    },
    {
     "data": {
      "text/plain": [
       "tensor([1.0000000000000000, 2.0000000000000000, 8.9899997711181641],\n",
       "       requires_grad=True)"
      ]
     },
     "metadata": {},
     "output_type": "display_data"
    }
   ],
   "source": [
    "# 转换为可优化变量（tensorflow）\n",
    "b10 = tf.constant([1,2,3,5.5])\n",
    "b10_grad = tf.Variable(b10)\n",
    "b11 = tf.Variable([3,4.5])\n",
    "\n",
    "# 转换成Variable后，可通过trainable判断该变量是否可训练\n",
    "display(b10, b10_grad, b10_grad.trainable, b11)\n",
    "print('-'*20)\n",
    "\n",
    "# 设上梯度（pytorch）\n",
    "a10 = torch.tensor([1,2,3,5.5])\n",
    "a10.requires_grad_(True)\n",
    "a11 = torch.tensor([1,2,8.99], requires_grad=True)\n",
    "display(a10, a10.requires_grad, a11)"
   ]
  }
 ],
 "metadata": {
  "interpreter": {
   "hash": "58edbf06b447562b2f859b4d256e1fe9b5ec2dc8d59984181fb6f62f1d7242b1"
  },
  "kernelspec": {
   "display_name": "Python 3.6.13 ('pytorch')",
   "language": "python",
   "name": "python3"
  },
  "language_info": {
   "codemirror_mode": {
    "name": "ipython",
    "version": 3
   },
   "file_extension": ".py",
   "mimetype": "text/x-python",
   "name": "python",
   "nbconvert_exporter": "python",
   "pygments_lexer": "ipython3",
   "version": "3.6.13"
  },
  "orig_nbformat": 4
 },
 "nbformat": 4,
 "nbformat_minor": 2
}
